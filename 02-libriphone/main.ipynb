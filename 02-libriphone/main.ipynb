{
 "cells": [
  {
   "cell_type": "markdown",
   "metadata": {},
   "source": [
    "https://www.kaggle.com/c/ml2022spring-hw2"
   ]
  },
  {
   "cell_type": "code",
   "execution_count": 3,
   "metadata": {},
   "outputs": [],
   "source": [
    "import os\n",
    "import random\n",
    "import numpy as np\n",
    "import pandas as pd\n",
    "import torch\n",
    "from torch.utils.data import Dataset\n",
    "from torch.utils.data import DataLoader\n",
    "from torch import nn\n",
    "import torch.nn.functional as F \n"
   ]
  },
  {
   "cell_type": "code",
   "execution_count": 4,
   "metadata": {},
   "outputs": [],
   "source": [
    "# data prarameters\n",
    "concat_nframes = 21          # the number of frames to concat with, n must be odd (total 2k+1 = n frames)\n",
    "mid = concat_nframes//2\n",
    "train_ratio = 0.95               # the ratio of data used for training, the rest will be used for validation\n",
    "\n",
    "# training parameters\n",
    "seed = 0                        # random seed\n",
    "batch_size = 2048                # batch size\n",
    "num_epoch = 50                   # the number of training epoch\n",
    "early_stopping = 8\n",
    "learning_rate = 0.0001            #learning rate\n",
    "model1_path = './model1.ckpt'     # the path where the checkpoint will be saved\n",
    "model2_path = './model2.ckpt'\n",
    "# model parameters\n",
    "input_dim = 39 * concat_nframes # the input dim of the model, you should not change the value\n",
    "hidden_layers = 3              # the number of hidden layers\n",
    "hidden_dim = 1024              # the hidden dim\n",
    "\n",
    "# device\n",
    "device = 'cuda:0' if torch.cuda.is_available() else 'cpu'"
   ]
  },
  {
   "cell_type": "markdown",
   "metadata": {},
   "source": [
    "# Data"
   ]
  },
  {
   "cell_type": "code",
   "execution_count": 5,
   "metadata": {},
   "outputs": [],
   "source": [
    "class LibriDataset(Dataset):\n",
    "    def __init__(self, X, y = None) -> None:\n",
    "        self.data = X\n",
    "        self.label = None if y is None else torch.LongTensor(y)\n",
    "    \n",
    "    def __getitem__(self, index):\n",
    "        return self.data[index].view(-1, 39) if self.label is None else (self.data[index].view(-1, 39), self.label[index])\n",
    "    \n",
    "    def __len__(self):\n",
    "        return self.data"
   ]
  },
  {
   "cell_type": "code",
   "execution_count": 6,
   "metadata": {},
   "outputs": [],
   "source": [
    "def load_feat(path):\n",
    "    feat = torch.load(path)\n",
    "    return feat\n",
    "\n",
    "def shift(x, n):\n",
    "    if n < 0:\n",
    "        left = x[0].repeat(-n, 1)\n",
    "        right = x[:n]\n",
    "\n",
    "    elif n > 0:\n",
    "        right = x[-1].repeat(n, 1)\n",
    "        left = x[n:]\n",
    "    else:\n",
    "        return x\n",
    "\n",
    "    return torch.cat((left, right), dim=0)\n",
    "\n",
    "def concat_feat(x, concat_n):\n",
    "    assert concat_n % 2 == 1 # n must be odd\n",
    "    if concat_n < 2:\n",
    "        return x\n",
    "    seq_len, feature_dim = x.size(0), x.size(1)\n",
    "    x = x.repeat(1, concat_n) \n",
    "    x = x.view(seq_len, concat_n, feature_dim).permute(1, 0, 2) # concat_n, seq_len, feature_dim\n",
    "    mid = (concat_n // 2)\n",
    "    for r_idx in range(1, mid+1):\n",
    "        x[mid + r_idx, :] = shift(x[mid + r_idx], r_idx)\n",
    "        x[mid - r_idx, :] = shift(x[mid - r_idx], -r_idx)\n",
    "\n",
    "    return x.permute(1, 0, 2).view(seq_len, concat_n * feature_dim)\n",
    "\n",
    "def preprocess_data(split, feat_dir, phone_path, concat_nframes, train_ratio=0.8, train_val_seed=1337):\n",
    "    class_num = 41 # NOTE: pre-computed, should not need change\n",
    "    mode = 'train' if (split == 'train' or split == 'val') else 'test'\n",
    "\n",
    "    label_dict = {}\n",
    "    if mode != 'test':\n",
    "      phone_file = open(os.path.join(phone_path, f'{mode}_labels.txt')).readlines()\n",
    "\n",
    "      for line in phone_file:\n",
    "          line = line.strip('\\n').split(' ')\n",
    "          label_dict[line[0]] = [int(p) for p in line[1:]]\n",
    "\n",
    "    if split == 'train' or split == 'val':\n",
    "        # split training and validation data\n",
    "        usage_list = open(os.path.join(phone_path, 'train_split.txt')).readlines()\n",
    "        random.seed(train_val_seed)\n",
    "        random.shuffle(usage_list)\n",
    "        percent = int(len(usage_list) * train_ratio)\n",
    "        usage_list = usage_list[:percent] if split == 'train' else usage_list[percent:]\n",
    "    elif split == 'test':\n",
    "        usage_list = open(os.path.join(phone_path, 'test_split.txt')).readlines()\n",
    "    else:\n",
    "        raise ValueError('Invalid \\'split\\' argument for dataset: PhoneDataset!')\n",
    "\n",
    "    usage_list = [line.strip('\\n') for line in usage_list]\n",
    "    print('[Dataset] - # phone classes: ' + str(class_num) + ', number of utterances for ' + split + ': ' + str(len(usage_list)))\n",
    "\n",
    "    max_len = 3000000\n",
    "    X = torch.empty(max_len, 39 * concat_nframes)\n",
    "    if mode != 'test':\n",
    "      y = torch.empty(max_len, dtype=torch.long)\n",
    "\n",
    "    idx = 0\n",
    "    for i, fname in enumerate(usage_list):\n",
    "        feat = load_feat(os.path.join(feat_dir, mode, f'{fname}.pt'))\n",
    "        cur_len = len(feat)\n",
    "        feat = concat_feat(feat, concat_nframes)\n",
    "        if mode != 'test':\n",
    "          label = torch.LongTensor(label_dict[fname])\n",
    "\n",
    "        X[idx: idx + cur_len, :] = feat\n",
    "        if mode != 'test':\n",
    "          y[idx: idx + cur_len] = label\n",
    "\n",
    "        idx += cur_len\n",
    "\n",
    "    X = X[:idx, :]\n",
    "    if mode != 'test':\n",
    "      y = y[:idx]\n",
    "\n",
    "    print(f'[INFO] {split} set')\n",
    "    print(X.shape)\n",
    "    if mode != 'test':\n",
    "      print(y.shape)\n",
    "      return X, y\n",
    "    else:\n",
    "      return X\n"
   ]
  },
  {
   "cell_type": "code",
   "execution_count": null,
   "metadata": {},
   "outputs": [],
   "source": [
    "train_dataset = LibriDataset(*preprocess_data(split='train', feat_dir='./data/libriphone/feat', phone_path='./data/libriphone', concat_nframes=concat_nframes, train_ratio=train_ratio))\n",
    "valid_dataset = LibriDataset(*preprocess_data(split='val', feat_dir='./data/libriphone/feat', phone_path='./data/libriphone', concat_nframes=concat_nframes, train_ratio=train_ratio))\n",
    "train_loader = DataLoader(train_dataset, batch_size=batch_size, shuffle=True)\n",
    "valid_loader = DataLoader(valid_dataset, batch_size=batch_size, shuffle=False)"
   ]
  },
  {
   "cell_type": "markdown",
   "metadata": {},
   "source": [
    "# Model"
   ]
  },
  {
   "cell_type": "code",
   "execution_count": null,
   "metadata": {},
   "outputs": [
    {
     "name": "stdout",
     "output_type": "stream",
     "text": [
      "Looking in indexes: https://pypi.tuna.tsinghua.edu.cn/simple\n",
      "Requirement already satisfied: pytorch-crf in h:\\key-app\\miniconda\\install\\envs\\d2l\\lib\\site-packages (0.7.2)\n"
     ]
    }
   ],
   "source": [
    "! pip install pytorch-crf"
   ]
  },
  {
   "cell_type": "code",
   "execution_count": null,
   "metadata": {},
   "outputs": [],
   "source": [
    "from torchcrf import CRF \n",
    "\n",
    "class BiLSTM(nn.Module):\n",
    "    def __init__(self, class_size=41, input_dim=39, hidden_dim=192, dropout=0.5):\n",
    "        super().__init__()\n",
    "        self.input_dim = input_dim\n",
    "        self.hidden_dim = hidden_dim\n",
    "        self.class_size = class_size\n",
    "        self.lstm = nn.LSTM(input_dim, hidden_dim // 2, dropout=dropout,\n",
    "                            num_layers=3, bidirectional=True, batch_first=True)\n",
    "        self.hidden2tag = nn.Sequential(\n",
    "            nn.Dropout(dropout),\n",
    "            nn.Linear(hidden_dim, class_size)\n",
    "        )\n",
    "        \n",
    "    def forward(self, x):\n",
    "        feats, _ = self.lstm(x)\n",
    "        return self.hidden2tag(feats)\n",
    "    \n",
    "class Crf(nn.Module):\n",
    "    def __init__(self, class_size=41):\n",
    "        super().__init__()\n",
    "        self.class_size = class_size\n",
    "        self.crf = CRF(self.class_size, batch_first=True)\n",
    "        \n",
    "    def likelihood(self, x, y):\n",
    "        return self.crf(x, y)\n",
    "    \n",
    "    def forward(self, x):\n",
    "        return torch.LongTensor(self.crf.decode(x))"
   ]
  },
  {
   "cell_type": "markdown",
   "metadata": {},
   "source": [
    "# Train"
   ]
  },
  {
   "cell_type": "code",
   "execution_count": null,
   "metadata": {},
   "outputs": [],
   "source": [
    "def same_seeds(seed):\n",
    "    torch.manual_seed(seed)\n",
    "    if torch.cuda.is_available():\n",
    "        torch.cuda.manual_seed(seed)\n",
    "        torch.cuda.manual_seed_all(seed)  \n",
    "    np.random.seed(seed)  \n",
    "    torch.backends.cudnn.benchmark = False\n",
    "    torch.backends.cudnn.deterministic = True\n",
    "\n",
    "# fix random seed\n",
    "same_seeds(seed)\n",
    "\n",
    "# create model, define a loss function, and optimizer\n",
    "#model = Classifier(input_dim=input_dim, hidden_layers=hidden_layers, hidden_dim=hidden_dim).to(device)\n",
    "#model = BiLSTM_CRF().to(device)\n",
    "bilstm = BiLSTM().to(device)\n",
    "crf = Crf().to(device)\n",
    "optimizer1 = torch.optim.AdamW(bilstm.parameters(), lr=learning_rate*20, weight_decay=0.015)\n",
    "scheduler = torch.optim.lr_scheduler.CosineAnnealingWarmRestarts(optimizer1, T_0=8, T_mult=2, eta_min=learning_rate/2)\n",
    "optimizer2  = torch.optim.AdamW(crf.parameters(), lr=learning_rate*500, weight_decay=1e-8)"
   ]
  },
  {
   "cell_type": "code",
   "execution_count": null,
   "metadata": {},
   "outputs": [],
   "source": [
    "best_acc = 0.0\n",
    "early_stop_count = 0\n",
    "for epoch in range(num_epoch):\n",
    "    train_acc = 0.0\n",
    "    train_loss = 0.0\n",
    "    val_acc = 0.0\n",
    "    val_loss = 0.0\n",
    "    train_item =0\n",
    "    # training\n",
    "    bilstm.train() # set the model to training mode\n",
    "    crf.train()\n",
    "    samples = 0\n",
    "    for features, labels in train_loader:\n",
    "        features, labels = features.to(device), labels.to(device)\n",
    "        \n",
    "        optimizer1.zero_grad()\n",
    "        optimizer2.zero_grad()\n",
    "        loss = -crf.likelihood(bilstm(features), labels)\n",
    "        loss.backward()\n",
    "        grad_norm = nn.utils.clip_grad_norm_(bilstm.parameters(), max_norm=50)\n",
    "        optimizer1.step()\n",
    "        optimizer2.step()\n",
    "        \n",
    "        train_loss += loss.item()\n",
    "        train_item += labels.size(0)\n",
    "        \n",
    "        lr1 = optimizer1.param_groups[0][\"lr\"]\n",
    "        lr2 = optimizer2.param_groups[0][\"lr\"]\n",
    "    scheduler.step()\n",
    "    # validation\n",
    "    if len(valid_dataset) > 0:\n",
    "        bilstm.eval() # set the model to evaluation mode\n",
    "        crf.eval()\n",
    "        with torch.no_grad():\n",
    "            samples = 0\n",
    "            for features, labels in valid_loader:\n",
    "                features, labels = features.to(device), labels.to(device)\n",
    "                outputs = crf(bilstm(features))                \n",
    "                val_acc += (outputs[:, mid] == labels[:, mid].cpu()).sum().item()\n",
    "                samples += labels.size(0)\n",
    "            # if the model improves, save a checkpoint at this epoch\n",
    "        if val_acc > best_acc:\n",
    "            best_acc = val_acc\n",
    "            torch.save(bilstm.state_dict(), model1_path)\n",
    "            torch.save(crf.state_dict(), model2_path)\n",
    "            print('saving model with acc {:.3f}'.format(best_acc/(len(valid_dataset))))\n",
    "            early_stop_count = 0\n",
    "        else:\n",
    "            early_stop_count += 1\n",
    "            if early_stop_count >= early_stopping:\n",
    "                print(f\"Epoch: {epoch + 1}, model not improving, early stopping.\")\n",
    "                break"
   ]
  },
  {
   "cell_type": "code",
   "execution_count": null,
   "metadata": {},
   "outputs": [],
   "source": [
    "import gc\n",
    "del train_loader, valid_loader\n",
    "gc.collect()"
   ]
  },
  {
   "cell_type": "markdown",
   "metadata": {},
   "source": [
    "# Predict"
   ]
  },
  {
   "cell_type": "code",
   "execution_count": null,
   "metadata": {},
   "outputs": [],
   "source": [
    "test_dataset = LibriDataset(*preprocess_data(split='test', feat_dir='./data/libriphone/feat', phone_path='./data/libriphone', concat_nframes=concat_nframes))\n",
    "test_loader = DataLoader(test_dataset, batch_size=batch_size, shuffle=False)"
   ]
  },
  {
   "cell_type": "code",
   "execution_count": null,
   "metadata": {},
   "outputs": [],
   "source": [
    "bilstm = BiLSTM().to(device)\n",
    "bilstm.load_state_dict(torch.load(model1_path))\n",
    "\n",
    "crf = Crf().to(device)\n",
    "crf.load_state_dict(torch.load(model2_path))"
   ]
  },
  {
   "cell_type": "code",
   "execution_count": null,
   "metadata": {},
   "outputs": [],
   "source": [
    "pred = np.array([], dtype=np.int32)\n",
    "\n",
    "bilstm.eval()\n",
    "crf.eval()\n",
    "with torch.no_grad():\n",
    "    for features in test_loader:\n",
    "        features = features.to(device)\n",
    "        outputs = crf(bilstm(features))\n",
    "        pred = np.concatenate((pred, outputs.detach().cpu()[:, mid]), axis=0)"
   ]
  },
  {
   "cell_type": "code",
   "execution_count": null,
   "metadata": {},
   "outputs": [],
   "source": [
    "with open('prediction.csv', 'w') as f:\n",
    "    f.write('Id,Class\\n')\n",
    "    for i, y in enumerate(pred):\n",
    "        f.write('{},{}\\n'.format(i, y))"
   ]
  }
 ],
 "metadata": {
  "kernelspec": {
   "display_name": "Python 3.8.13 ('d2l')",
   "language": "python",
   "name": "python3"
  },
  "language_info": {
   "codemirror_mode": {
    "name": "ipython",
    "version": 3
   },
   "file_extension": ".py",
   "mimetype": "text/x-python",
   "name": "python",
   "nbconvert_exporter": "python",
   "pygments_lexer": "ipython3",
   "version": "3.8.13"
  },
  "orig_nbformat": 4,
  "vscode": {
   "interpreter": {
    "hash": "e74e791fac79cd95acd8863fe3f7e8927d9df23efc816f2087cf9e199b41ecb8"
   }
  }
 },
 "nbformat": 4,
 "nbformat_minor": 2
}

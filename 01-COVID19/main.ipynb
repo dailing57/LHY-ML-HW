{
 "cells": [
  {
   "cell_type": "markdown",
   "metadata": {},
   "source": [
    "https://www.kaggle.com/competitions/ml2022spring-hw1/"
   ]
  },
  {
   "cell_type": "code",
   "execution_count": 192,
   "metadata": {},
   "outputs": [],
   "source": [
    "import torch\n",
    "from torch import nn \n",
    "from torch.utils.data import Dataset, DataLoader, random_split\n",
    "import pandas as pd\n",
    "import numpy as np\n",
    "import os\n",
    "import math\n",
    "from d2l import torch as d2l\n",
    "import csv"
   ]
  },
  {
   "cell_type": "code",
   "execution_count": 193,
   "metadata": {},
   "outputs": [],
   "source": [
    "device = 'cuda' if torch.cuda.is_available() else 'cpu'\n",
    "config = {\n",
    "    'seed': 570124,      # Your seed number, you can pick your lucky number. :)\n",
    "    'select_all': True,   # Whether to use all features.\n",
    "    'valid_ratio': 0.2,   # validation_size = train_size * valid_ratio\n",
    "    'n_epochs': 500,     # Number of epochs.            \n",
    "    'batch_size': 300, \n",
    "    'learning_rate': 1e-2,\n",
    "    'weight_decay': 0.1,\n",
    "    'early_stop': 400,    # If model has not improved for this many consecutive epochs, stop training.     \n",
    "    'save_path': './models/model.ckpt'  # Your model will be saved here.\n",
    "}"
   ]
  },
  {
   "cell_type": "markdown",
   "metadata": {},
   "source": [
    "# Data"
   ]
  },
  {
   "cell_type": "code",
   "execution_count": 194,
   "metadata": {},
   "outputs": [],
   "source": [
    "train_data = pd.read_csv('./data/covid.train.csv').values\n",
    "test_data = pd.read_csv('./data/covid.test.csv').values"
   ]
  },
  {
   "cell_type": "code",
   "execution_count": 195,
   "metadata": {},
   "outputs": [],
   "source": [
    "class COVID19Dataset(Dataset):\n",
    "    '''\n",
    "    x: Features.\n",
    "    y: Targets, if none, do prediction.\n",
    "    '''\n",
    "    def __init__(self, x, y=None):\n",
    "        if y is None:\n",
    "            self.y = y\n",
    "        else:\n",
    "            self.y = torch.FloatTensor(y)\n",
    "        self.x = torch.FloatTensor(x)\n",
    "\n",
    "    def __getitem__(self, idx):\n",
    "        if self.y is None:\n",
    "            return self.x[idx]\n",
    "        else:\n",
    "            return self.x[idx], self.y[idx]\n",
    "\n",
    "    def __len__(self):\n",
    "        return len(self.x)"
   ]
  },
  {
   "cell_type": "code",
   "execution_count": 196,
   "metadata": {},
   "outputs": [],
   "source": [
    "def same_seed(seed): \n",
    "    '''Fixes random number generator seeds for reproducibility.'''\n",
    "    torch.backends.cudnn.deterministic = True\n",
    "    torch.backends.cudnn.benchmark = False\n",
    "    np.random.seed(seed)\n",
    "    torch.manual_seed(seed)\n",
    "    if torch.cuda.is_available():\n",
    "        torch.cuda.manual_seed_all(seed)\n",
    "\n",
    "def train_valid_split(data_set, valid_ratio, seed):\n",
    "    '''Split provided training data into training set and validation set'''\n",
    "    valid_set_size = int(valid_ratio * len(data_set)) \n",
    "    train_set_size = len(data_set) - valid_set_size\n",
    "    train_set, valid_set = random_split(data_set, [train_set_size, valid_set_size], generator=torch.Generator().manual_seed(seed))\n",
    "    return torch.tensor(train_set, dtype=torch.float32), torch.tensor(valid_set, dtype=torch.float32)"
   ]
  },
  {
   "cell_type": "code",
   "execution_count": 197,
   "metadata": {},
   "outputs": [],
   "source": [
    "same_seed(config['seed'])\n",
    "train_data, valid_data = train_valid_split(train_data, config['valid_ratio'], config['seed'])\n",
    "y_train, y_valid = train_data[:,-1], valid_data[:,-1]\n",
    "x_train, x_valid, x_test = train_data[:,1:-1], valid_data[:,1:-1], test_data[:,1:]\n",
    "\n",
    "train_dataset, valid_dataset, test_dataset = COVID19Dataset(x_train, y_train), COVID19Dataset(x_valid, y_valid), COVID19Dataset(x_test)\n",
    "train_loader = DataLoader(train_dataset, batch_size=config['batch_size'], shuffle=True, pin_memory=True)\n",
    "valid_loader = DataLoader(valid_dataset, batch_size=config['batch_size'], shuffle=True, pin_memory=True)\n",
    "test_loader = DataLoader(test_dataset, batch_size=config['batch_size'], shuffle=False, pin_memory=True)"
   ]
  },
  {
   "cell_type": "markdown",
   "metadata": {},
   "source": [
    "# Model"
   ]
  },
  {
   "cell_type": "code",
   "execution_count": 198,
   "metadata": {},
   "outputs": [],
   "source": [
    "class My_Model(nn.Module):\n",
    "    def __init__(self, input_dim):\n",
    "        super(My_Model, self).__init__()\n",
    "        # TODO: modify model's structure, be aware of dimensions. \n",
    "        self.layers = nn.Sequential(\n",
    "            nn.Linear(input_dim, 32),\n",
    "            nn.ReLU(),\n",
    "            nn.Linear(32, 16),\n",
    "            nn.ReLU(),\n",
    "            nn.Linear(16, 1)\n",
    "        )\n",
    "\n",
    "    def forward(self, x):\n",
    "        x = self.layers(x)\n",
    "        x = x.squeeze(1) # (B, 1) -> (B)\n",
    "        return x"
   ]
  },
  {
   "cell_type": "markdown",
   "metadata": {},
   "source": [
    "# Train"
   ]
  },
  {
   "cell_type": "code",
   "execution_count": 199,
   "metadata": {},
   "outputs": [],
   "source": [
    "loss = nn.MSELoss()"
   ]
  },
  {
   "cell_type": "code",
   "execution_count": 200,
   "metadata": {},
   "outputs": [],
   "source": [
    "def log_rmse(net, features, labels): \n",
    "    # 为了在取对数时进一步稳定该值，将小于1的值设置为1\n",
    "    clipped_preds = torch.clamp(net(features), 1, float('inf'))\n",
    "    rmse = torch.sqrt(loss(torch.log(clipped_preds), torch.log(labels)))\n",
    "    return rmse.item()"
   ]
  },
  {
   "cell_type": "code",
   "execution_count": 201,
   "metadata": {},
   "outputs": [],
   "source": [
    "x_train, y_train, x_valid, y_valid = x_train.to(device), y_train.to(device), x_valid.to(device), y_valid.to(device)\n",
    "\n",
    "def train(net):\n",
    "    if not os.path.isdir('./models'):\n",
    "        os.mkdir('./models')\n",
    "    train_ls, valid_ls = [], []\n",
    "    optimizer = torch.optim.Adam(net.parameters(), weight_decay=config['weight_decay'])\n",
    "    best_loss, step, early_stop_count = math.inf, 0, 0\n",
    "    for epoch in range(config['n_epochs']):\n",
    "        net.train()\n",
    "        for X, y in train_loader:\n",
    "            optimizer.zero_grad()\n",
    "            X, y = X.to(device), y.to(device)\n",
    "            l = loss(net(X), y)\n",
    "            l.backward()\n",
    "            optimizer.step()\n",
    "        with torch.no_grad():\n",
    "            train_ls.append(loss(net(x_train), y_train))\n",
    "            valid_ls.append(loss(net(x_valid), y_valid))\n",
    "        \n",
    "        if valid_ls[-1] < best_loss:\n",
    "            best_loss = valid_ls[-1]\n",
    "            torch.save(net.state_dict(), config['save_path']) # Save your best model\n",
    "            early_stop_count = 0\n",
    "        else:\n",
    "            early_stop_count += 1\n",
    "\n",
    "        if early_stop_count >= config['early_stop']:\n",
    "            print('\\nModel is not improving, so we halt the training session.')\n",
    "            return train_ls, valid_ls\n",
    "    return train_ls, valid_ls"
   ]
  },
  {
   "cell_type": "code",
   "execution_count": 202,
   "metadata": {},
   "outputs": [
    {
     "data": {
      "image/svg+xml": "<?xml version=\"1.0\" encoding=\"utf-8\" standalone=\"no\"?>\n<!DOCTYPE svg PUBLIC \"-//W3C//DTD SVG 1.1//EN\"\n  \"http://www.w3.org/Graphics/SVG/1.1/DTD/svg11.dtd\">\n<svg xmlns:xlink=\"http://www.w3.org/1999/xlink\" width=\"257.521875pt\" height=\"183.35625pt\" viewBox=\"0 0 257.521875 183.35625\" xmlns=\"http://www.w3.org/2000/svg\" version=\"1.1\">\n <metadata>\n  <rdf:RDF xmlns:dc=\"http://purl.org/dc/elements/1.1/\" xmlns:cc=\"http://creativecommons.org/ns#\" xmlns:rdf=\"http://www.w3.org/1999/02/22-rdf-syntax-ns#\">\n   <cc:Work>\n    <dc:type rdf:resource=\"http://purl.org/dc/dcmitype/StillImage\"/>\n    <dc:date>2022-10-07T10:35:05.901442</dc:date>\n    <dc:format>image/svg+xml</dc:format>\n    <dc:creator>\n     <cc:Agent>\n      <dc:title>Matplotlib v3.5.1, https://matplotlib.org/</dc:title>\n     </cc:Agent>\n    </dc:creator>\n   </cc:Work>\n  </rdf:RDF>\n </metadata>\n <defs>\n  <style type=\"text/css\">*{stroke-linejoin: round; stroke-linecap: butt}</style>\n </defs>\n <g id=\"figure_1\">\n  <g id=\"patch_1\">\n   <path d=\"M 0 183.35625 \nL 257.521875 183.35625 \nL 257.521875 0 \nL 0 0 \nz\n\" style=\"fill: #ffffff\"/>\n  </g>\n  <g id=\"axes_1\">\n   <g id=\"patch_2\">\n    <path d=\"M 45.478125 145.8 \nL 240.778125 145.8 \nL 240.778125 7.2 \nL 45.478125 7.2 \nz\n\" style=\"fill: #ffffff\"/>\n   </g>\n   <g id=\"matplotlib.axis_1\">\n    <g id=\"xtick_1\">\n     <g id=\"line2d_1\">\n      <path d=\"M 84.225019 145.8 \nL 84.225019 7.2 \n\" clip-path=\"url(#p0545b47cc1)\" style=\"fill: none; stroke: #b0b0b0; stroke-width: 0.8; stroke-linecap: square\"/>\n     </g>\n     <g id=\"line2d_2\">\n      <defs>\n       <path id=\"m4234067ed0\" d=\"M 0 0 \nL 0 3.5 \n\" style=\"stroke: #000000; stroke-width: 0.8\"/>\n      </defs>\n      <g>\n       <use xlink:href=\"#m4234067ed0\" x=\"84.225019\" y=\"145.8\" style=\"stroke: #000000; stroke-width: 0.8\"/>\n      </g>\n     </g>\n     <g id=\"text_1\">\n      <!-- 100 -->\n      <g transform=\"translate(74.681269 160.398438)scale(0.1 -0.1)\">\n       <defs>\n        <path id=\"DejaVuSans-31\" d=\"M 794 531 \nL 1825 531 \nL 1825 4091 \nL 703 3866 \nL 703 4441 \nL 1819 4666 \nL 2450 4666 \nL 2450 531 \nL 3481 531 \nL 3481 0 \nL 794 0 \nL 794 531 \nz\n\" transform=\"scale(0.015625)\"/>\n        <path id=\"DejaVuSans-30\" d=\"M 2034 4250 \nQ 1547 4250 1301 3770 \nQ 1056 3291 1056 2328 \nQ 1056 1369 1301 889 \nQ 1547 409 2034 409 \nQ 2525 409 2770 889 \nQ 3016 1369 3016 2328 \nQ 3016 3291 2770 3770 \nQ 2525 4250 2034 4250 \nz\nM 2034 4750 \nQ 2819 4750 3233 4129 \nQ 3647 3509 3647 2328 \nQ 3647 1150 3233 529 \nQ 2819 -91 2034 -91 \nQ 1250 -91 836 529 \nQ 422 1150 422 2328 \nQ 422 3509 836 4129 \nQ 1250 4750 2034 4750 \nz\n\" transform=\"scale(0.015625)\"/>\n       </defs>\n       <use xlink:href=\"#DejaVuSans-31\"/>\n       <use xlink:href=\"#DejaVuSans-30\" x=\"63.623047\"/>\n       <use xlink:href=\"#DejaVuSans-30\" x=\"127.246094\"/>\n      </g>\n     </g>\n    </g>\n    <g id=\"xtick_2\">\n     <g id=\"line2d_3\">\n      <path d=\"M 123.363295 145.8 \nL 123.363295 7.2 \n\" clip-path=\"url(#p0545b47cc1)\" style=\"fill: none; stroke: #b0b0b0; stroke-width: 0.8; stroke-linecap: square\"/>\n     </g>\n     <g id=\"line2d_4\">\n      <g>\n       <use xlink:href=\"#m4234067ed0\" x=\"123.363295\" y=\"145.8\" style=\"stroke: #000000; stroke-width: 0.8\"/>\n      </g>\n     </g>\n     <g id=\"text_2\">\n      <!-- 200 -->\n      <g transform=\"translate(113.819545 160.398438)scale(0.1 -0.1)\">\n       <defs>\n        <path id=\"DejaVuSans-32\" d=\"M 1228 531 \nL 3431 531 \nL 3431 0 \nL 469 0 \nL 469 531 \nQ 828 903 1448 1529 \nQ 2069 2156 2228 2338 \nQ 2531 2678 2651 2914 \nQ 2772 3150 2772 3378 \nQ 2772 3750 2511 3984 \nQ 2250 4219 1831 4219 \nQ 1534 4219 1204 4116 \nQ 875 4013 500 3803 \nL 500 4441 \nQ 881 4594 1212 4672 \nQ 1544 4750 1819 4750 \nQ 2544 4750 2975 4387 \nQ 3406 4025 3406 3419 \nQ 3406 3131 3298 2873 \nQ 3191 2616 2906 2266 \nQ 2828 2175 2409 1742 \nQ 1991 1309 1228 531 \nz\n\" transform=\"scale(0.015625)\"/>\n       </defs>\n       <use xlink:href=\"#DejaVuSans-32\"/>\n       <use xlink:href=\"#DejaVuSans-30\" x=\"63.623047\"/>\n       <use xlink:href=\"#DejaVuSans-30\" x=\"127.246094\"/>\n      </g>\n     </g>\n    </g>\n    <g id=\"xtick_3\">\n     <g id=\"line2d_5\">\n      <path d=\"M 162.501572 145.8 \nL 162.501572 7.2 \n\" clip-path=\"url(#p0545b47cc1)\" style=\"fill: none; stroke: #b0b0b0; stroke-width: 0.8; stroke-linecap: square\"/>\n     </g>\n     <g id=\"line2d_6\">\n      <g>\n       <use xlink:href=\"#m4234067ed0\" x=\"162.501572\" y=\"145.8\" style=\"stroke: #000000; stroke-width: 0.8\"/>\n      </g>\n     </g>\n     <g id=\"text_3\">\n      <!-- 300 -->\n      <g transform=\"translate(152.957822 160.398438)scale(0.1 -0.1)\">\n       <defs>\n        <path id=\"DejaVuSans-33\" d=\"M 2597 2516 \nQ 3050 2419 3304 2112 \nQ 3559 1806 3559 1356 \nQ 3559 666 3084 287 \nQ 2609 -91 1734 -91 \nQ 1441 -91 1130 -33 \nQ 819 25 488 141 \nL 488 750 \nQ 750 597 1062 519 \nQ 1375 441 1716 441 \nQ 2309 441 2620 675 \nQ 2931 909 2931 1356 \nQ 2931 1769 2642 2001 \nQ 2353 2234 1838 2234 \nL 1294 2234 \nL 1294 2753 \nL 1863 2753 \nQ 2328 2753 2575 2939 \nQ 2822 3125 2822 3475 \nQ 2822 3834 2567 4026 \nQ 2313 4219 1838 4219 \nQ 1578 4219 1281 4162 \nQ 984 4106 628 3988 \nL 628 4550 \nQ 988 4650 1302 4700 \nQ 1616 4750 1894 4750 \nQ 2613 4750 3031 4423 \nQ 3450 4097 3450 3541 \nQ 3450 3153 3228 2886 \nQ 3006 2619 2597 2516 \nz\n\" transform=\"scale(0.015625)\"/>\n       </defs>\n       <use xlink:href=\"#DejaVuSans-33\"/>\n       <use xlink:href=\"#DejaVuSans-30\" x=\"63.623047\"/>\n       <use xlink:href=\"#DejaVuSans-30\" x=\"127.246094\"/>\n      </g>\n     </g>\n    </g>\n    <g id=\"xtick_4\">\n     <g id=\"line2d_7\">\n      <path d=\"M 201.639848 145.8 \nL 201.639848 7.2 \n\" clip-path=\"url(#p0545b47cc1)\" style=\"fill: none; stroke: #b0b0b0; stroke-width: 0.8; stroke-linecap: square\"/>\n     </g>\n     <g id=\"line2d_8\">\n      <g>\n       <use xlink:href=\"#m4234067ed0\" x=\"201.639848\" y=\"145.8\" style=\"stroke: #000000; stroke-width: 0.8\"/>\n      </g>\n     </g>\n     <g id=\"text_4\">\n      <!-- 400 -->\n      <g transform=\"translate(192.096098 160.398438)scale(0.1 -0.1)\">\n       <defs>\n        <path id=\"DejaVuSans-34\" d=\"M 2419 4116 \nL 825 1625 \nL 2419 1625 \nL 2419 4116 \nz\nM 2253 4666 \nL 3047 4666 \nL 3047 1625 \nL 3713 1625 \nL 3713 1100 \nL 3047 1100 \nL 3047 0 \nL 2419 0 \nL 2419 1100 \nL 313 1100 \nL 313 1709 \nL 2253 4666 \nz\n\" transform=\"scale(0.015625)\"/>\n       </defs>\n       <use xlink:href=\"#DejaVuSans-34\"/>\n       <use xlink:href=\"#DejaVuSans-30\" x=\"63.623047\"/>\n       <use xlink:href=\"#DejaVuSans-30\" x=\"127.246094\"/>\n      </g>\n     </g>\n    </g>\n    <g id=\"xtick_5\">\n     <g id=\"line2d_9\">\n      <path d=\"M 240.778125 145.8 \nL 240.778125 7.2 \n\" clip-path=\"url(#p0545b47cc1)\" style=\"fill: none; stroke: #b0b0b0; stroke-width: 0.8; stroke-linecap: square\"/>\n     </g>\n     <g id=\"line2d_10\">\n      <g>\n       <use xlink:href=\"#m4234067ed0\" x=\"240.778125\" y=\"145.8\" style=\"stroke: #000000; stroke-width: 0.8\"/>\n      </g>\n     </g>\n     <g id=\"text_5\">\n      <!-- 500 -->\n      <g transform=\"translate(231.234375 160.398438)scale(0.1 -0.1)\">\n       <defs>\n        <path id=\"DejaVuSans-35\" d=\"M 691 4666 \nL 3169 4666 \nL 3169 4134 \nL 1269 4134 \nL 1269 2991 \nQ 1406 3038 1543 3061 \nQ 1681 3084 1819 3084 \nQ 2600 3084 3056 2656 \nQ 3513 2228 3513 1497 \nQ 3513 744 3044 326 \nQ 2575 -91 1722 -91 \nQ 1428 -91 1123 -41 \nQ 819 9 494 109 \nL 494 744 \nQ 775 591 1075 516 \nQ 1375 441 1709 441 \nQ 2250 441 2565 725 \nQ 2881 1009 2881 1497 \nQ 2881 1984 2565 2268 \nQ 2250 2553 1709 2553 \nQ 1456 2553 1204 2497 \nQ 953 2441 691 2322 \nL 691 4666 \nz\n\" transform=\"scale(0.015625)\"/>\n       </defs>\n       <use xlink:href=\"#DejaVuSans-35\"/>\n       <use xlink:href=\"#DejaVuSans-30\" x=\"63.623047\"/>\n       <use xlink:href=\"#DejaVuSans-30\" x=\"127.246094\"/>\n      </g>\n     </g>\n    </g>\n    <g id=\"text_6\">\n     <!-- epoch -->\n     <g transform=\"translate(127.9 174.076563)scale(0.1 -0.1)\">\n      <defs>\n       <path id=\"DejaVuSans-65\" d=\"M 3597 1894 \nL 3597 1613 \nL 953 1613 \nQ 991 1019 1311 708 \nQ 1631 397 2203 397 \nQ 2534 397 2845 478 \nQ 3156 559 3463 722 \nL 3463 178 \nQ 3153 47 2828 -22 \nQ 2503 -91 2169 -91 \nQ 1331 -91 842 396 \nQ 353 884 353 1716 \nQ 353 2575 817 3079 \nQ 1281 3584 2069 3584 \nQ 2775 3584 3186 3129 \nQ 3597 2675 3597 1894 \nz\nM 3022 2063 \nQ 3016 2534 2758 2815 \nQ 2500 3097 2075 3097 \nQ 1594 3097 1305 2825 \nQ 1016 2553 972 2059 \nL 3022 2063 \nz\n\" transform=\"scale(0.015625)\"/>\n       <path id=\"DejaVuSans-70\" d=\"M 1159 525 \nL 1159 -1331 \nL 581 -1331 \nL 581 3500 \nL 1159 3500 \nL 1159 2969 \nQ 1341 3281 1617 3432 \nQ 1894 3584 2278 3584 \nQ 2916 3584 3314 3078 \nQ 3713 2572 3713 1747 \nQ 3713 922 3314 415 \nQ 2916 -91 2278 -91 \nQ 1894 -91 1617 61 \nQ 1341 213 1159 525 \nz\nM 3116 1747 \nQ 3116 2381 2855 2742 \nQ 2594 3103 2138 3103 \nQ 1681 3103 1420 2742 \nQ 1159 2381 1159 1747 \nQ 1159 1113 1420 752 \nQ 1681 391 2138 391 \nQ 2594 391 2855 752 \nQ 3116 1113 3116 1747 \nz\n\" transform=\"scale(0.015625)\"/>\n       <path id=\"DejaVuSans-6f\" d=\"M 1959 3097 \nQ 1497 3097 1228 2736 \nQ 959 2375 959 1747 \nQ 959 1119 1226 758 \nQ 1494 397 1959 397 \nQ 2419 397 2687 759 \nQ 2956 1122 2956 1747 \nQ 2956 2369 2687 2733 \nQ 2419 3097 1959 3097 \nz\nM 1959 3584 \nQ 2709 3584 3137 3096 \nQ 3566 2609 3566 1747 \nQ 3566 888 3137 398 \nQ 2709 -91 1959 -91 \nQ 1206 -91 779 398 \nQ 353 888 353 1747 \nQ 353 2609 779 3096 \nQ 1206 3584 1959 3584 \nz\n\" transform=\"scale(0.015625)\"/>\n       <path id=\"DejaVuSans-63\" d=\"M 3122 3366 \nL 3122 2828 \nQ 2878 2963 2633 3030 \nQ 2388 3097 2138 3097 \nQ 1578 3097 1268 2742 \nQ 959 2388 959 1747 \nQ 959 1106 1268 751 \nQ 1578 397 2138 397 \nQ 2388 397 2633 464 \nQ 2878 531 3122 666 \nL 3122 134 \nQ 2881 22 2623 -34 \nQ 2366 -91 2075 -91 \nQ 1284 -91 818 406 \nQ 353 903 353 1747 \nQ 353 2603 823 3093 \nQ 1294 3584 2113 3584 \nQ 2378 3584 2631 3529 \nQ 2884 3475 3122 3366 \nz\n\" transform=\"scale(0.015625)\"/>\n       <path id=\"DejaVuSans-68\" d=\"M 3513 2113 \nL 3513 0 \nL 2938 0 \nL 2938 2094 \nQ 2938 2591 2744 2837 \nQ 2550 3084 2163 3084 \nQ 1697 3084 1428 2787 \nQ 1159 2491 1159 1978 \nL 1159 0 \nL 581 0 \nL 581 4863 \nL 1159 4863 \nL 1159 2956 \nQ 1366 3272 1645 3428 \nQ 1925 3584 2291 3584 \nQ 2894 3584 3203 3211 \nQ 3513 2838 3513 2113 \nz\n\" transform=\"scale(0.015625)\"/>\n      </defs>\n      <use xlink:href=\"#DejaVuSans-65\"/>\n      <use xlink:href=\"#DejaVuSans-70\" x=\"61.523438\"/>\n      <use xlink:href=\"#DejaVuSans-6f\" x=\"125\"/>\n      <use xlink:href=\"#DejaVuSans-63\" x=\"186.181641\"/>\n      <use xlink:href=\"#DejaVuSans-68\" x=\"241.162109\"/>\n     </g>\n    </g>\n   </g>\n   <g id=\"matplotlib.axis_2\">\n    <g id=\"ytick_1\">\n     <g id=\"line2d_11\">\n      <path d=\"M 45.478125 140.222452 \nL 240.778125 140.222452 \n\" clip-path=\"url(#p0545b47cc1)\" style=\"fill: none; stroke: #b0b0b0; stroke-width: 0.8; stroke-linecap: square\"/>\n     </g>\n     <g id=\"line2d_12\">\n      <defs>\n       <path id=\"mc5c28caa1d\" d=\"M 0 0 \nL -3.5 0 \n\" style=\"stroke: #000000; stroke-width: 0.8\"/>\n      </defs>\n      <g>\n       <use xlink:href=\"#mc5c28caa1d\" x=\"45.478125\" y=\"140.222452\" style=\"stroke: #000000; stroke-width: 0.8\"/>\n      </g>\n     </g>\n     <g id=\"text_7\">\n      <!-- $\\mathdefault{10^{0}}$ -->\n      <g transform=\"translate(20.878125 144.021671)scale(0.1 -0.1)\">\n       <use xlink:href=\"#DejaVuSans-31\" transform=\"translate(0 0.765625)\"/>\n       <use xlink:href=\"#DejaVuSans-30\" transform=\"translate(63.623047 0.765625)\"/>\n       <use xlink:href=\"#DejaVuSans-30\" transform=\"translate(128.203125 39.046875)scale(0.7)\"/>\n      </g>\n     </g>\n    </g>\n    <g id=\"ytick_2\">\n     <g id=\"line2d_13\">\n      <path d=\"M 45.478125 56.898516 \nL 240.778125 56.898516 \n\" clip-path=\"url(#p0545b47cc1)\" style=\"fill: none; stroke: #b0b0b0; stroke-width: 0.8; stroke-linecap: square\"/>\n     </g>\n     <g id=\"line2d_14\">\n      <g>\n       <use xlink:href=\"#mc5c28caa1d\" x=\"45.478125\" y=\"56.898516\" style=\"stroke: #000000; stroke-width: 0.8\"/>\n      </g>\n     </g>\n     <g id=\"text_8\">\n      <!-- $\\mathdefault{10^{1}}$ -->\n      <g transform=\"translate(20.878125 60.697735)scale(0.1 -0.1)\">\n       <use xlink:href=\"#DejaVuSans-31\" transform=\"translate(0 0.684375)\"/>\n       <use xlink:href=\"#DejaVuSans-30\" transform=\"translate(63.623047 0.684375)\"/>\n       <use xlink:href=\"#DejaVuSans-31\" transform=\"translate(128.203125 38.965625)scale(0.7)\"/>\n      </g>\n     </g>\n    </g>\n    <g id=\"ytick_3\">\n     <g id=\"line2d_15\">\n      <defs>\n       <path id=\"m53d651697c\" d=\"M 0 0 \nL -2 0 \n\" style=\"stroke: #000000; stroke-width: 0.6\"/>\n      </defs>\n      <g>\n       <use xlink:href=\"#m53d651697c\" x=\"45.478125\" y=\"144.035147\" style=\"stroke: #000000; stroke-width: 0.6\"/>\n      </g>\n     </g>\n    </g>\n    <g id=\"ytick_4\">\n     <g id=\"line2d_16\">\n      <g>\n       <use xlink:href=\"#m53d651697c\" x=\"45.478125\" y=\"115.139448\" style=\"stroke: #000000; stroke-width: 0.6\"/>\n      </g>\n     </g>\n    </g>\n    <g id=\"ytick_5\">\n     <g id=\"line2d_17\">\n      <g>\n       <use xlink:href=\"#m53d651697c\" x=\"45.478125\" y=\"100.466832\" style=\"stroke: #000000; stroke-width: 0.6\"/>\n      </g>\n     </g>\n    </g>\n    <g id=\"ytick_6\">\n     <g id=\"line2d_18\">\n      <g>\n       <use xlink:href=\"#m53d651697c\" x=\"45.478125\" y=\"90.056444\" style=\"stroke: #000000; stroke-width: 0.6\"/>\n      </g>\n     </g>\n    </g>\n    <g id=\"ytick_7\">\n     <g id=\"line2d_19\">\n      <g>\n       <use xlink:href=\"#m53d651697c\" x=\"45.478125\" y=\"81.981521\" style=\"stroke: #000000; stroke-width: 0.6\"/>\n      </g>\n     </g>\n    </g>\n    <g id=\"ytick_8\">\n     <g id=\"line2d_20\">\n      <g>\n       <use xlink:href=\"#m53d651697c\" x=\"45.478125\" y=\"75.383827\" style=\"stroke: #000000; stroke-width: 0.6\"/>\n      </g>\n     </g>\n    </g>\n    <g id=\"ytick_9\">\n     <g id=\"line2d_21\">\n      <g>\n       <use xlink:href=\"#m53d651697c\" x=\"45.478125\" y=\"69.805557\" style=\"stroke: #000000; stroke-width: 0.6\"/>\n      </g>\n     </g>\n    </g>\n    <g id=\"ytick_10\">\n     <g id=\"line2d_22\">\n      <g>\n       <use xlink:href=\"#m53d651697c\" x=\"45.478125\" y=\"64.97344\" style=\"stroke: #000000; stroke-width: 0.6\"/>\n      </g>\n     </g>\n    </g>\n    <g id=\"ytick_11\">\n     <g id=\"line2d_23\">\n      <g>\n       <use xlink:href=\"#m53d651697c\" x=\"45.478125\" y=\"60.711211\" style=\"stroke: #000000; stroke-width: 0.6\"/>\n      </g>\n     </g>\n    </g>\n    <g id=\"ytick_12\">\n     <g id=\"line2d_24\">\n      <g>\n       <use xlink:href=\"#m53d651697c\" x=\"45.478125\" y=\"31.815512\" style=\"stroke: #000000; stroke-width: 0.6\"/>\n      </g>\n     </g>\n    </g>\n    <g id=\"ytick_13\">\n     <g id=\"line2d_25\">\n      <g>\n       <use xlink:href=\"#m53d651697c\" x=\"45.478125\" y=\"17.142896\" style=\"stroke: #000000; stroke-width: 0.6\"/>\n      </g>\n     </g>\n    </g>\n    <g id=\"text_9\">\n     <!-- mse -->\n     <g transform=\"translate(14.798437 87.051563)rotate(-90)scale(0.1 -0.1)\">\n      <defs>\n       <path id=\"DejaVuSans-6d\" d=\"M 3328 2828 \nQ 3544 3216 3844 3400 \nQ 4144 3584 4550 3584 \nQ 5097 3584 5394 3201 \nQ 5691 2819 5691 2113 \nL 5691 0 \nL 5113 0 \nL 5113 2094 \nQ 5113 2597 4934 2840 \nQ 4756 3084 4391 3084 \nQ 3944 3084 3684 2787 \nQ 3425 2491 3425 1978 \nL 3425 0 \nL 2847 0 \nL 2847 2094 \nQ 2847 2600 2669 2842 \nQ 2491 3084 2119 3084 \nQ 1678 3084 1418 2786 \nQ 1159 2488 1159 1978 \nL 1159 0 \nL 581 0 \nL 581 3500 \nL 1159 3500 \nL 1159 2956 \nQ 1356 3278 1631 3431 \nQ 1906 3584 2284 3584 \nQ 2666 3584 2933 3390 \nQ 3200 3197 3328 2828 \nz\n\" transform=\"scale(0.015625)\"/>\n       <path id=\"DejaVuSans-73\" d=\"M 2834 3397 \nL 2834 2853 \nQ 2591 2978 2328 3040 \nQ 2066 3103 1784 3103 \nQ 1356 3103 1142 2972 \nQ 928 2841 928 2578 \nQ 928 2378 1081 2264 \nQ 1234 2150 1697 2047 \nL 1894 2003 \nQ 2506 1872 2764 1633 \nQ 3022 1394 3022 966 \nQ 3022 478 2636 193 \nQ 2250 -91 1575 -91 \nQ 1294 -91 989 -36 \nQ 684 19 347 128 \nL 347 722 \nQ 666 556 975 473 \nQ 1284 391 1588 391 \nQ 1994 391 2212 530 \nQ 2431 669 2431 922 \nQ 2431 1156 2273 1281 \nQ 2116 1406 1581 1522 \nL 1381 1569 \nQ 847 1681 609 1914 \nQ 372 2147 372 2553 \nQ 372 3047 722 3315 \nQ 1072 3584 1716 3584 \nQ 2034 3584 2315 3537 \nQ 2597 3491 2834 3397 \nz\n\" transform=\"scale(0.015625)\"/>\n      </defs>\n      <use xlink:href=\"#DejaVuSans-6d\"/>\n      <use xlink:href=\"#DejaVuSans-73\" x=\"97.412109\"/>\n      <use xlink:href=\"#DejaVuSans-65\" x=\"149.511719\"/>\n     </g>\n    </g>\n   </g>\n   <g id=\"line2d_26\">\n    <path d=\"M 45.478125 14.959068 \nL 45.869508 19.328086 \nL 46.260891 25.693237 \nL 47.043656 45.04259 \nL 47.826422 70.459104 \nL 48.217804 77.547242 \nL 48.609187 79.250638 \nL 49.391953 80.908304 \nL 49.783335 82.038992 \nL 50.174718 82.708059 \nL 50.957484 84.8539 \nL 51.348866 85.392542 \nL 51.740249 86.331349 \nL 52.131632 88.006142 \nL 52.523015 88.956048 \nL 52.914398 91.16547 \nL 54.088546 93.755887 \nL 54.479929 97.37611 \nL 55.262694 100.103022 \nL 55.654077 100.958148 \nL 56.04546 100.469788 \nL 56.436842 103.67126 \nL 57.219608 107.048484 \nL 57.610991 103.790258 \nL 58.002373 108.63524 \nL 58.393756 105.992403 \nL 58.785139 110.524191 \nL 59.176522 108.693397 \nL 59.567905 111.415256 \nL 59.959287 106.894092 \nL 60.35067 111.99634 \nL 60.742053 112.836108 \nL 61.133436 113.313568 \nL 61.524818 114.470159 \nL 61.916201 114.637089 \nL 62.307584 114.297677 \nL 62.698967 115.249407 \nL 63.481732 116.365448 \nL 63.873115 116.187032 \nL 64.264498 115.651652 \nL 64.655881 117.332413 \nL 65.047263 117.104688 \nL 65.438646 117.532473 \nL 65.830029 114.884473 \nL 66.221412 110.187398 \nL 66.612794 115.893768 \nL 67.004177 116.896398 \nL 67.39556 119.085516 \nL 67.786943 118.479184 \nL 68.178325 119.018174 \nL 68.569708 119.337383 \nL 68.961091 119.861552 \nL 69.352474 117.335142 \nL 70.135239 120.223394 \nL 70.526622 119.354391 \nL 70.918005 117.93184 \nL 71.70077 120.378792 \nL 72.092153 113.955978 \nL 72.483536 113.702549 \nL 72.874919 110.645666 \nL 73.266301 110.235242 \nL 73.657684 121.250724 \nL 74.049067 120.837258 \nL 74.44045 120.980745 \nL 74.831832 123.233044 \nL 75.223215 123.551617 \nL 75.614598 123.566699 \nL 76.005981 123.97837 \nL 76.397363 123.310533 \nL 76.788746 123.781435 \nL 77.180129 117.776988 \nL 77.571512 120.105666 \nL 77.962895 123.471004 \nL 78.354277 121.831378 \nL 78.74566 124.598497 \nL 79.137043 123.135694 \nL 79.919808 125.743859 \nL 80.311191 122.425445 \nL 80.702574 126.438968 \nL 81.093957 126.49754 \nL 81.485339 126.897976 \nL 81.876722 125.968159 \nL 82.268105 124.590246 \nL 82.659488 126.850413 \nL 83.05087 122.417577 \nL 83.442253 127.046899 \nL 84.225019 117.762787 \nL 85.007784 125.934543 \nL 85.399167 128.350363 \nL 85.79055 127.982877 \nL 86.573315 123.684332 \nL 86.964698 122.595545 \nL 87.356081 122.712788 \nL 87.747464 128.396971 \nL 88.138846 129.682409 \nL 88.530229 129.670109 \nL 88.921612 124.724432 \nL 89.312995 126.588478 \nL 89.704378 123.085356 \nL 90.09576 130.13977 \nL 90.487143 123.253387 \nL 90.878526 127.641711 \nL 91.269909 128.683929 \nL 91.661291 125.823743 \nL 92.052674 130.118114 \nL 92.444057 130.804056 \nL 92.83544 130.825637 \nL 93.226822 131.04287 \nL 93.618205 129.984594 \nL 94.009588 131.629245 \nL 94.400971 127.099961 \nL 94.792353 127.165089 \nL 95.183736 132.013331 \nL 95.575119 131.951065 \nL 95.966502 125.701979 \nL 96.357885 132.415977 \nL 96.749267 131.868559 \nL 97.14065 132.070503 \nL 97.532033 132.877109 \nL 98.314798 133.06615 \nL 98.706181 130.507771 \nL 99.097564 129.91664 \nL 99.488947 131.307483 \nL 99.880329 119.12026 \nL 100.271712 128.475096 \nL 100.663095 132.959839 \nL 101.054478 133.165574 \nL 101.44586 133.8019 \nL 101.837243 127.998007 \nL 102.228626 126.738989 \nL 102.620009 122.738782 \nL 103.011392 124.622338 \nL 103.402774 130.704215 \nL 103.794157 134.198453 \nL 104.576923 134.285472 \nL 104.968305 134.131481 \nL 105.359688 130.706072 \nL 105.751071 134.523124 \nL 106.142454 132.789994 \nL 106.533836 133.201289 \nL 106.925219 128.97558 \nL 107.316602 121.272212 \nL 107.707985 134.808377 \nL 108.099367 128.606851 \nL 108.882133 135.112077 \nL 109.273516 133.598837 \nL 109.664899 134.207136 \nL 110.056281 123.863108 \nL 110.447664 131.57268 \nL 110.839047 134.547112 \nL 111.23043 135.099187 \nL 111.621812 130.461072 \nL 112.013195 135.108624 \nL 112.404578 132.091961 \nL 112.795961 135.582681 \nL 113.187343 135.308536 \nL 113.578726 124.625133 \nL 113.970109 131.319091 \nL 114.361492 126.113518 \nL 114.752874 135.264003 \nL 115.144257 130.767326 \nL 115.53564 134.199838 \nL 115.927023 135.0228 \nL 116.318406 125.446764 \nL 116.709788 133.630485 \nL 117.101171 135.919205 \nL 117.492554 131.238244 \nL 117.883937 132.658317 \nL 118.275319 136.042617 \nL 118.666702 129.573859 \nL 119.058085 130.520764 \nL 119.449468 135.070427 \nL 119.84085 132.985377 \nL 120.232233 132.17465 \nL 120.623616 135.339653 \nL 121.014999 135.74652 \nL 121.406382 135.462981 \nL 121.797764 136.162267 \nL 122.189147 132.988552 \nL 122.58053 134.83384 \nL 122.971913 135.946272 \nL 123.363295 136.503382 \nL 123.754678 133.412604 \nL 124.146061 132.571901 \nL 124.537444 133.300783 \nL 124.928826 128.134152 \nL 125.320209 134.937176 \nL 125.711592 136.157243 \nL 126.102975 135.390145 \nL 126.494357 132.737532 \nL 126.88574 134.31666 \nL 127.277123 136.527668 \nL 128.451271 127.926711 \nL 128.842654 133.772737 \nL 129.234037 136.940672 \nL 129.62542 136.052384 \nL 130.016802 133.633404 \nL 130.408185 135.155002 \nL 130.799568 134.609232 \nL 131.190951 133.691014 \nL 131.582333 135.008821 \nL 131.973716 135.163625 \nL 132.365099 131.4724 \nL 132.756482 136.998926 \nL 133.147864 137.068216 \nL 133.539247 130.904889 \nL 133.93063 131.299803 \nL 134.322013 114.373383 \nL 134.713396 135.028577 \nL 135.104778 124.761205 \nL 135.496161 136.681091 \nL 135.887544 137.138836 \nL 136.278927 129.247759 \nL 136.670309 127.655758 \nL 137.061692 136.917442 \nL 137.453075 134.750642 \nL 137.844458 137.16884 \nL 138.627223 135.168047 \nL 139.018606 134.909594 \nL 139.409989 134.103071 \nL 139.801371 121.873754 \nL 140.192754 135.956093 \nL 140.584137 136.019004 \nL 140.97552 133.410149 \nL 141.366903 133.996355 \nL 141.758285 137.054266 \nL 142.149668 128.788712 \nL 142.541051 135.682761 \nL 142.932434 137.493243 \nL 143.323816 133.585125 \nL 143.715199 135.858054 \nL 144.106582 132.309047 \nL 144.497965 135.849112 \nL 144.889347 134.184486 \nL 145.28073 137.567063 \nL 145.672113 132.964611 \nL 146.063496 136.591332 \nL 146.454879 135.736283 \nL 146.846261 136.140961 \nL 147.237644 137.519164 \nL 148.02041 137.448814 \nL 148.411792 136.480832 \nL 148.803175 137.038449 \nL 149.194558 136.853057 \nL 149.585941 136.842836 \nL 149.977323 137.865231 \nL 150.368706 134.368832 \nL 150.760089 134.199604 \nL 151.151472 133.470576 \nL 151.542854 134.720816 \nL 151.934237 129.60678 \nL 152.32562 129.356161 \nL 152.717003 137.543083 \nL 153.108386 133.144968 \nL 153.499768 137.990951 \nL 153.891151 137.842633 \nL 154.282534 136.960786 \nL 154.673917 133.982281 \nL 155.065299 133.621602 \nL 155.456682 135.508672 \nL 155.848065 135.645827 \nL 156.63083 132.024129 \nL 157.022213 132.288503 \nL 157.413596 133.933776 \nL 157.804979 131.619687 \nL 158.196361 137.019598 \nL 158.587744 137.984548 \nL 158.979127 135.403653 \nL 159.37051 128.670694 \nL 159.761893 136.618586 \nL 160.153275 127.107136 \nL 160.544658 137.656209 \nL 160.936041 138.209397 \nL 161.327424 135.554322 \nL 161.718806 138.236162 \nL 162.110189 136.753247 \nL 162.501572 134.365937 \nL 162.892955 137.001084 \nL 163.284337 133.349727 \nL 163.67572 137.70701 \nL 164.067103 136.667215 \nL 164.458486 138.029287 \nL 164.849868 138.279419 \nL 165.241251 138.295588 \nL 165.632634 134.863611 \nL 166.024017 138.009694 \nL 166.4154 138.352502 \nL 166.806782 135.110159 \nL 167.198165 132.898684 \nL 167.589548 134.83038 \nL 167.980931 135.808686 \nL 168.372313 138.049261 \nL 168.763696 137.902585 \nL 169.155079 134.888868 \nL 169.546462 137.526478 \nL 169.937844 138.446325 \nL 170.329227 131.34143 \nL 170.72061 137.505915 \nL 171.111993 138.412797 \nL 171.503376 137.465555 \nL 171.894758 137.89985 \nL 172.286141 133.526973 \nL 172.677524 138.114818 \nL 173.068907 132.40941 \nL 173.460289 138.35748 \nL 173.851672 138.353326 \nL 174.243055 137.294829 \nL 174.634438 129.874003 \nL 175.02582 135.74075 \nL 175.417203 138.468729 \nL 175.808586 138.426686 \nL 176.199969 138.541475 \nL 176.591351 137.937134 \nL 176.982734 136.197138 \nL 177.374117 138.534821 \nL 177.7655 132.972894 \nL 178.156883 138.389345 \nL 178.548265 135.576697 \nL 178.939648 138.336226 \nL 179.331031 138.318844 \nL 179.722414 137.456478 \nL 180.113796 138.440769 \nL 180.505179 138.422852 \nL 180.896562 138.208307 \nL 181.287945 138.692696 \nL 181.679327 130.448399 \nL 182.07071 138.703797 \nL 182.462093 138.088289 \nL 182.853476 135.171285 \nL 183.636241 138.758469 \nL 184.027624 138.7895 \nL 184.419007 133.675967 \nL 184.81039 138.715054 \nL 185.201772 138.382461 \nL 186.375921 130.416003 \nL 186.767303 138.761038 \nL 187.158686 138.238645 \nL 187.550069 128.156259 \nL 187.941452 137.499589 \nL 188.332834 138.047494 \nL 188.724217 137.114829 \nL 189.1156 138.868354 \nL 189.506983 137.25348 \nL 189.898365 137.642303 \nL 190.289748 136.935921 \nL 191.072514 138.868624 \nL 191.463897 138.865263 \nL 191.855279 137.004474 \nL 192.246662 138.633861 \nL 192.638045 134.956009 \nL 193.029428 136.878739 \nL 193.42081 136.61014 \nL 193.812193 138.585478 \nL 194.203576 136.928563 \nL 194.594959 138.538448 \nL 194.986341 138.821084 \nL 195.377724 138.589049 \nL 195.769107 138.556958 \nL 196.16049 138.010725 \nL 196.551872 139.040456 \nL 196.943255 138.909212 \nL 197.334638 135.189268 \nL 197.726021 137.602858 \nL 198.117404 137.349074 \nL 198.508786 138.257615 \nL 198.900169 134.782756 \nL 199.291552 138.245265 \nL 199.682935 130.66446 \nL 200.074317 127.023308 \nL 200.4657 131.576692 \nL 200.857083 117.400062 \nL 201.248466 124.714094 \nL 201.639848 138.110826 \nL 202.031231 136.535868 \nL 202.422614 135.648978 \nL 202.813997 127.877827 \nL 203.20538 136.994447 \nL 203.596762 130.135307 \nL 203.988145 136.223378 \nL 204.379528 138.343233 \nL 204.770911 136.444179 \nL 205.162293 138.893154 \nL 205.553676 138.572147 \nL 205.945059 139.030929 \nL 206.727824 138.318427 \nL 207.119207 139.0514 \nL 207.51059 132.518725 \nL 207.901973 138.391548 \nL 208.293355 135.516626 \nL 208.684738 138.953665 \nL 209.076121 138.629135 \nL 209.467504 133.688357 \nL 209.858887 137.77228 \nL 210.250269 133.294617 \nL 210.641652 139.199303 \nL 211.424418 136.994593 \nL 211.8158 136.925692 \nL 212.207183 137.876554 \nL 212.598566 138.47875 \nL 212.989949 132.279008 \nL 213.381331 131.754724 \nL 213.772714 139.089288 \nL 214.164097 121.3629 \nL 214.55548 137.569356 \nL 214.946862 138.974685 \nL 215.729628 138.150304 \nL 216.121011 136.273904 \nL 216.512394 138.414081 \nL 216.903776 135.545303 \nL 217.295159 137.962612 \nL 217.686542 137.266736 \nL 218.077925 138.958747 \nL 218.86069 139.185983 \nL 219.252073 134.004536 \nL 219.643456 139.071278 \nL 220.034838 138.90843 \nL 220.426221 127.070376 \nL 220.817604 138.779981 \nL 221.208987 136.624236 \nL 221.600369 136.238739 \nL 221.991752 139.306183 \nL 222.383135 138.221216 \nL 222.774518 139.20109 \nL 223.165901 138.596369 \nL 223.557283 139.227835 \nL 223.948666 135.993318 \nL 224.340049 139.239853 \nL 224.731432 139.327695 \nL 225.122814 138.922465 \nL 225.514197 139.223848 \nL 225.90558 139.266223 \nL 226.296963 138.74413 \nL 226.688345 139.404467 \nL 227.471111 139.339156 \nL 227.862494 136.113976 \nL 228.645259 139.372876 \nL 229.036642 130.587387 \nL 229.428025 139.368351 \nL 229.819408 139.274551 \nL 230.21079 135.450785 \nL 230.602173 138.00487 \nL 230.993556 137.905114 \nL 231.384939 139.457498 \nL 231.776321 139.5 \nL 232.167704 132.022409 \nL 232.559087 138.967196 \nL 232.95047 138.013192 \nL 233.341852 139.390207 \nL 233.733235 139.396523 \nL 234.124618 125.739904 \nL 234.516001 130.987822 \nL 234.907384 131.050017 \nL 235.298766 134.873962 \nL 236.081532 139.275833 \nL 236.472915 133.703456 \nL 236.864297 139.107045 \nL 237.25568 119.981558 \nL 237.647063 139.291726 \nL 238.038446 136.677066 \nL 238.429828 137.807924 \nL 238.821211 132.416383 \nL 239.212594 138.45155 \nL 239.603977 132.910384 \nL 239.995359 125.501027 \nL 240.386742 125.878923 \nL 240.778125 129.669851 \nL 240.778125 129.669851 \n\" clip-path=\"url(#p0545b47cc1)\" style=\"fill: none; stroke: #1f77b4; stroke-width: 1.5; stroke-linecap: square\"/>\n   </g>\n   <g id=\"line2d_27\">\n    <path d=\"M 45.478125 13.5 \nL 46.260891 23.312618 \nL 47.043656 40.945716 \nL 47.826422 63.984036 \nL 48.217804 70.42683 \nL 48.609187 73.746826 \nL 49.00057 74.560656 \nL 49.391953 74.746789 \nL 49.783335 75.649237 \nL 50.174718 75.809896 \nL 50.957484 77.965861 \nL 51.348866 78.146571 \nL 51.740249 78.993393 \nL 52.131632 80.668756 \nL 52.523015 81.402026 \nL 52.914398 83.891522 \nL 53.30578 84.410455 \nL 53.697163 85.462382 \nL 54.088546 85.904976 \nL 54.479929 89.801032 \nL 55.262694 92.84765 \nL 55.654077 93.038121 \nL 56.04546 92.599599 \nL 56.828225 97.883785 \nL 57.219608 99.135619 \nL 57.610991 96.240844 \nL 58.002373 100.951639 \nL 58.393756 99.396266 \nL 58.785139 102.880417 \nL 59.176522 101.134322 \nL 59.567905 103.646747 \nL 59.959287 100.681043 \nL 60.35067 104.395747 \nL 61.133436 105.711396 \nL 61.524818 106.903934 \nL 61.916201 107.060239 \nL 62.307584 106.6251 \nL 62.698967 107.792503 \nL 63.090349 108.459421 \nL 63.481732 108.756656 \nL 63.873115 108.466082 \nL 64.264498 108.471578 \nL 64.655881 109.55763 \nL 65.047263 109.485916 \nL 65.438646 109.693784 \nL 65.830029 107.932378 \nL 66.221412 103.499027 \nL 66.612794 108.7498 \nL 67.004177 109.029404 \nL 67.39556 111.124615 \nL 67.786943 110.780698 \nL 68.178325 110.948946 \nL 68.569708 111.492739 \nL 68.961091 111.753707 \nL 69.352474 109.532287 \nL 70.135239 112.174208 \nL 70.918005 110.511256 \nL 71.309388 110.909973 \nL 71.70077 112.425064 \nL 72.092153 106.514202 \nL 72.483536 107.226726 \nL 72.874919 103.672913 \nL 73.266301 104.578363 \nL 73.657684 112.652617 \nL 74.049067 112.8731 \nL 74.44045 112.508151 \nL 74.831832 114.437933 \nL 75.223215 114.693316 \nL 75.614598 114.709477 \nL 76.005981 115.047697 \nL 76.397363 114.792737 \nL 76.788746 114.948934 \nL 77.180129 109.75168 \nL 77.962895 114.587347 \nL 78.354277 113.978797 \nL 78.74566 116.033453 \nL 79.137043 114.287082 \nL 79.528426 115.365603 \nL 79.919808 116.870874 \nL 80.311191 113.8453 \nL 80.702574 117.32848 \nL 81.093957 117.158796 \nL 81.485339 117.644487 \nL 81.876722 116.959043 \nL 82.268105 115.299301 \nL 82.659488 117.846097 \nL 83.05087 114.65062 \nL 83.442253 117.461747 \nL 84.225019 110.830935 \nL 84.616402 113.356713 \nL 85.007784 117.196782 \nL 85.399167 118.499559 \nL 85.79055 118.314088 \nL 86.181933 117.233964 \nL 86.964698 113.789418 \nL 87.356081 114.998157 \nL 87.747464 118.609462 \nL 88.138846 119.732471 \nL 88.530229 120.027161 \nL 88.921612 115.617575 \nL 89.312995 117.689222 \nL 89.704378 114.13064 \nL 90.09576 120.002663 \nL 90.487143 115.530607 \nL 90.878526 117.954851 \nL 91.269909 119.509988 \nL 91.661291 116.423802 \nL 92.052674 120.46727 \nL 93.226822 120.83121 \nL 93.618205 119.871426 \nL 94.009588 121.581326 \nL 94.400971 118.501111 \nL 94.792353 117.547697 \nL 95.183736 121.927744 \nL 95.575119 121.879546 \nL 95.966502 116.326665 \nL 96.357885 122.051917 \nL 96.749267 121.853967 \nL 97.14065 122.068164 \nL 97.532033 122.458731 \nL 97.923416 122.599017 \nL 98.314798 122.45179 \nL 98.706181 120.364787 \nL 99.097564 119.816209 \nL 99.488947 121.812416 \nL 99.880329 112.555318 \nL 100.271712 118.706886 \nL 100.663095 122.324261 \nL 101.054478 123.142849 \nL 101.44586 123.279961 \nL 101.837243 118.289869 \nL 102.228626 117.222058 \nL 102.620009 115.436244 \nL 103.011392 115.47253 \nL 103.402774 121.54239 \nL 103.794157 123.750448 \nL 104.18554 123.433663 \nL 104.576923 123.740385 \nL 104.968305 123.884695 \nL 105.359688 120.607694 \nL 105.751071 123.764453 \nL 106.142454 123.125457 \nL 106.533836 123.392485 \nL 106.925219 120.426696 \nL 107.316602 112.826006 \nL 107.707985 124.179077 \nL 108.099367 120.172531 \nL 108.49075 121.801763 \nL 108.882133 124.369502 \nL 109.273516 123.674192 \nL 109.664899 123.497002 \nL 110.056281 116.585553 \nL 110.447664 122.325605 \nL 110.839047 123.773499 \nL 111.23043 124.518542 \nL 111.621812 121.697056 \nL 112.013195 124.377731 \nL 112.404578 121.909399 \nL 112.795961 124.905129 \nL 113.187343 124.537168 \nL 113.578726 117.321483 \nL 113.970109 122.401682 \nL 114.361492 116.760849 \nL 114.752874 124.789397 \nL 115.144257 121.774985 \nL 115.53564 123.425578 \nL 115.927023 124.137413 \nL 116.318406 117.990752 \nL 116.709788 123.041954 \nL 117.101171 125.223027 \nL 117.492554 122.292925 \nL 117.883937 123.178617 \nL 118.275319 125.259534 \nL 118.666702 121.200386 \nL 119.058085 120.618566 \nL 119.449468 124.389146 \nL 119.84085 123.560261 \nL 120.232233 121.943088 \nL 120.623616 125.166774 \nL 121.014999 125.542048 \nL 121.406382 124.5811 \nL 121.797764 125.576278 \nL 122.189147 122.744945 \nL 122.58053 124.083087 \nL 123.363295 125.553641 \nL 123.754678 123.136025 \nL 124.146061 123.236697 \nL 124.537444 123.843364 \nL 124.928826 118.755431 \nL 125.320209 124.12748 \nL 125.711592 125.233149 \nL 126.102975 124.797581 \nL 126.494357 122.520155 \nL 126.88574 124.7044 \nL 127.277123 126.060482 \nL 127.668506 123.008173 \nL 128.059889 122.043759 \nL 128.451271 118.740267 \nL 128.842654 123.507122 \nL 129.234037 126.43112 \nL 129.62542 125.857491 \nL 130.016802 124.23946 \nL 130.799568 124.90164 \nL 131.190951 124.259342 \nL 131.582333 125.219447 \nL 131.973716 124.682844 \nL 132.365099 121.517162 \nL 132.756482 126.153381 \nL 133.147864 126.535797 \nL 133.539247 121.101332 \nL 133.93063 121.119615 \nL 134.322013 109.018614 \nL 134.713396 125.228345 \nL 135.104778 115.996212 \nL 135.496161 126.117167 \nL 135.887544 126.450925 \nL 136.278927 119.714452 \nL 136.670309 119.447745 \nL 137.061692 125.96696 \nL 137.453075 124.140027 \nL 137.844458 126.304655 \nL 138.23584 125.159256 \nL 138.627223 125.154252 \nL 139.409989 123.728441 \nL 139.801371 115.426327 \nL 140.192754 125.166056 \nL 140.584137 124.891715 \nL 140.97552 122.937867 \nL 141.366903 124.316143 \nL 141.758285 126.252268 \nL 142.149668 119.338061 \nL 142.541051 125.554987 \nL 142.932434 126.828273 \nL 143.323816 123.494975 \nL 143.715199 125.64671 \nL 144.106582 122.191649 \nL 144.497965 125.903862 \nL 144.889347 123.869271 \nL 145.28073 126.76269 \nL 145.672113 123.844931 \nL 146.063496 126.357048 \nL 146.454879 125.092758 \nL 147.237644 126.787643 \nL 147.629027 126.584584 \nL 148.02041 126.797701 \nL 148.411792 126.271996 \nL 148.803175 126.680038 \nL 149.194558 126.050155 \nL 149.585941 126.128793 \nL 149.977323 127.069476 \nL 150.368706 124.791303 \nL 150.760089 124.769507 \nL 151.151472 123.417928 \nL 151.542854 125.183353 \nL 151.934237 121.531458 \nL 152.32562 119.940157 \nL 152.717003 126.749232 \nL 153.108386 124.238828 \nL 153.499768 127.240762 \nL 153.891151 127.346593 \nL 154.282534 126.746866 \nL 154.673917 124.825151 \nL 155.065299 123.700325 \nL 155.456682 125.519421 \nL 155.848065 125.964973 \nL 156.239448 123.666951 \nL 156.63083 123.263345 \nL 157.022213 122.520292 \nL 157.413596 123.469806 \nL 157.804979 122.786386 \nL 158.196361 126.039479 \nL 158.587744 127.160939 \nL 158.979127 125.089382 \nL 159.37051 120.531183 \nL 159.761893 126.286289 \nL 160.153275 118.223928 \nL 160.544658 126.652632 \nL 160.936041 127.334684 \nL 161.327424 125.720167 \nL 161.718806 127.357877 \nL 162.110189 126.232346 \nL 162.501572 124.329184 \nL 162.892955 126.321964 \nL 163.284337 124.091536 \nL 163.67572 127.049003 \nL 164.067103 125.922502 \nL 164.458486 127.134233 \nL 164.849868 127.49413 \nL 165.241251 127.526254 \nL 165.632634 124.689496 \nL 166.024017 127.02123 \nL 166.4154 127.516618 \nL 166.806782 125.62568 \nL 167.198165 123.09425 \nL 168.372313 126.989207 \nL 168.763696 127.288624 \nL 169.155079 124.43881 \nL 169.546462 126.514244 \nL 169.937844 127.773226 \nL 170.329227 122.608534 \nL 170.72061 126.916174 \nL 171.111993 127.432074 \nL 171.503376 126.838175 \nL 171.894758 127.230178 \nL 172.286141 124.34102 \nL 172.677524 127.393484 \nL 173.068907 122.774976 \nL 173.460289 127.702069 \nL 173.851672 127.610514 \nL 174.243055 126.742101 \nL 174.634438 120.444321 \nL 175.02582 125.960049 \nL 175.417203 128.031416 \nL 175.808586 127.882069 \nL 176.199969 128.022627 \nL 176.591351 127.408125 \nL 176.982734 125.574349 \nL 177.374117 127.451361 \nL 177.7655 124.13405 \nL 178.156883 127.757733 \nL 178.548265 125.418456 \nL 178.939648 127.69464 \nL 179.722414 126.682889 \nL 180.113796 127.848865 \nL 180.896562 127.691616 \nL 181.287945 127.890996 \nL 181.679327 120.994309 \nL 182.07071 127.589136 \nL 182.462093 127.320245 \nL 182.853476 125.517111 \nL 183.636241 127.759201 \nL 184.027624 127.885673 \nL 184.419007 124.330822 \nL 184.81039 127.680506 \nL 185.201772 127.594205 \nL 185.593155 126.095786 \nL 186.375921 121.030126 \nL 186.767303 127.541593 \nL 187.158686 127.21413 \nL 187.550069 120.481088 \nL 187.941452 126.806873 \nL 188.332834 127.685322 \nL 188.724217 126.240796 \nL 189.1156 127.942494 \nL 189.506983 126.841361 \nL 189.898365 127.37113 \nL 190.289748 126.311475 \nL 190.681131 126.937938 \nL 191.072514 128.0031 \nL 191.463897 127.9171 \nL 191.855279 126.54041 \nL 192.246662 128.18948 \nL 192.638045 125.27141 \nL 193.029428 126.471351 \nL 193.42081 125.846497 \nL 193.812193 127.59486 \nL 194.203576 126.943365 \nL 194.594959 127.829386 \nL 194.986341 128.045424 \nL 195.377724 127.702059 \nL 195.769107 127.573482 \nL 196.16049 127.168292 \nL 196.551872 128.119464 \nL 196.943255 128.073563 \nL 197.334638 125.676859 \nL 197.726021 127.266693 \nL 198.117404 126.592868 \nL 198.508786 127.783588 \nL 198.900169 124.596839 \nL 199.291552 126.933238 \nL 199.682935 122.108247 \nL 200.074317 119.216314 \nL 200.4657 121.932266 \nL 200.857083 110.313018 \nL 201.248466 117.342486 \nL 201.639848 127.252487 \nL 202.031231 125.466115 \nL 202.422614 125.885834 \nL 202.813997 119.751447 \nL 203.20538 125.966835 \nL 203.596762 120.699511 \nL 203.988145 125.81251 \nL 204.379528 127.073915 \nL 204.770911 125.886092 \nL 205.162293 127.975963 \nL 205.553676 127.709953 \nL 205.945059 128.156648 \nL 206.336442 127.768244 \nL 206.727824 127.858158 \nL 207.119207 128.234147 \nL 207.51059 122.971111 \nL 207.901973 127.591446 \nL 208.293355 126.002922 \nL 208.684738 128.125998 \nL 209.076121 127.677544 \nL 209.467504 124.43569 \nL 209.858887 127.499099 \nL 210.250269 123.413343 \nL 210.641652 128.283103 \nL 211.033035 127.749829 \nL 211.424418 126.061587 \nL 211.8158 126.679753 \nL 212.207183 127.031634 \nL 212.598566 127.890622 \nL 212.989949 123.47354 \nL 213.381331 123.031842 \nL 213.772714 127.901727 \nL 214.164097 113.928479 \nL 214.55548 126.521186 \nL 214.946862 127.552351 \nL 215.338245 127.571922 \nL 215.729628 127.088613 \nL 216.121011 125.85625 \nL 216.512394 127.566503 \nL 216.903776 125.033072 \nL 217.295159 127.34863 \nL 217.686542 127.263572 \nL 218.077925 128.005276 \nL 218.469307 128.186569 \nL 218.86069 128.066071 \nL 219.252073 124.05938 \nL 219.643456 128.234578 \nL 220.034838 128.010786 \nL 220.426221 118.500349 \nL 220.817604 127.881551 \nL 221.208987 126.666845 \nL 221.600369 125.883654 \nL 221.991752 128.126202 \nL 222.383135 127.006382 \nL 222.774518 128.212803 \nL 223.165901 127.704486 \nL 223.557283 128.594308 \nL 223.948666 125.635293 \nL 224.340049 128.220311 \nL 224.731432 128.337948 \nL 225.122814 128.091736 \nL 225.514197 128.451821 \nL 226.296963 127.955828 \nL 226.688345 128.29879 \nL 227.079728 128.351475 \nL 227.471111 128.650298 \nL 227.862494 126.262884 \nL 228.645259 128.298319 \nL 229.036642 121.291502 \nL 229.428025 128.016931 \nL 229.819408 128.1314 \nL 230.21079 125.275403 \nL 230.602173 127.101843 \nL 230.993556 127.340818 \nL 231.384939 128.492761 \nL 231.776321 128.469225 \nL 232.167704 122.472472 \nL 232.559087 127.831634 \nL 232.95047 127.525039 \nL 233.341852 128.245699 \nL 233.733235 128.589303 \nL 234.124618 117.467067 \nL 234.516001 121.324429 \nL 234.907384 121.957721 \nL 235.298766 124.971413 \nL 235.690149 125.827583 \nL 236.081532 128.003066 \nL 236.472915 124.283299 \nL 236.864297 127.587076 \nL 237.25568 112.846658 \nL 237.647063 128.244277 \nL 238.038446 126.490836 \nL 238.429828 127.180056 \nL 238.821211 122.75383 \nL 239.212594 127.541389 \nL 239.603977 123.682833 \nL 239.995359 118.093157 \nL 240.386742 118.412785 \nL 240.778125 120.303168 \nL 240.778125 120.303168 \n\" clip-path=\"url(#p0545b47cc1)\" style=\"fill: none; stroke-dasharray: 5.55,2.4; stroke-dashoffset: 0; stroke: #bf00bf; stroke-width: 1.5\"/>\n   </g>\n   <g id=\"patch_3\">\n    <path d=\"M 45.478125 145.8 \nL 45.478125 7.2 \n\" style=\"fill: none; stroke: #000000; stroke-width: 0.8; stroke-linejoin: miter; stroke-linecap: square\"/>\n   </g>\n   <g id=\"patch_4\">\n    <path d=\"M 240.778125 145.8 \nL 240.778125 7.2 \n\" style=\"fill: none; stroke: #000000; stroke-width: 0.8; stroke-linejoin: miter; stroke-linecap: square\"/>\n   </g>\n   <g id=\"patch_5\">\n    <path d=\"M 45.478125 145.8 \nL 240.778125 145.8 \n\" style=\"fill: none; stroke: #000000; stroke-width: 0.8; stroke-linejoin: miter; stroke-linecap: square\"/>\n   </g>\n   <g id=\"patch_6\">\n    <path d=\"M 45.478125 7.2 \nL 240.778125 7.2 \n\" style=\"fill: none; stroke: #000000; stroke-width: 0.8; stroke-linejoin: miter; stroke-linecap: square\"/>\n   </g>\n   <g id=\"legend_1\">\n    <g id=\"patch_7\">\n     <path d=\"M 177.826562 44.55625 \nL 233.778125 44.55625 \nQ 235.778125 44.55625 235.778125 42.55625 \nL 235.778125 14.2 \nQ 235.778125 12.2 233.778125 12.2 \nL 177.826562 12.2 \nQ 175.826562 12.2 175.826562 14.2 \nL 175.826562 42.55625 \nQ 175.826562 44.55625 177.826562 44.55625 \nz\n\" style=\"fill: #ffffff; opacity: 0.8; stroke: #cccccc; stroke-linejoin: miter\"/>\n    </g>\n    <g id=\"line2d_28\">\n     <path d=\"M 179.826562 20.298438 \nL 189.826562 20.298438 \nL 199.826562 20.298438 \n\" style=\"fill: none; stroke: #1f77b4; stroke-width: 1.5; stroke-linecap: square\"/>\n    </g>\n    <g id=\"text_10\">\n     <!-- train -->\n     <g transform=\"translate(207.826562 23.798438)scale(0.1 -0.1)\">\n      <defs>\n       <path id=\"DejaVuSans-74\" d=\"M 1172 4494 \nL 1172 3500 \nL 2356 3500 \nL 2356 3053 \nL 1172 3053 \nL 1172 1153 \nQ 1172 725 1289 603 \nQ 1406 481 1766 481 \nL 2356 481 \nL 2356 0 \nL 1766 0 \nQ 1100 0 847 248 \nQ 594 497 594 1153 \nL 594 3053 \nL 172 3053 \nL 172 3500 \nL 594 3500 \nL 594 4494 \nL 1172 4494 \nz\n\" transform=\"scale(0.015625)\"/>\n       <path id=\"DejaVuSans-72\" d=\"M 2631 2963 \nQ 2534 3019 2420 3045 \nQ 2306 3072 2169 3072 \nQ 1681 3072 1420 2755 \nQ 1159 2438 1159 1844 \nL 1159 0 \nL 581 0 \nL 581 3500 \nL 1159 3500 \nL 1159 2956 \nQ 1341 3275 1631 3429 \nQ 1922 3584 2338 3584 \nQ 2397 3584 2469 3576 \nQ 2541 3569 2628 3553 \nL 2631 2963 \nz\n\" transform=\"scale(0.015625)\"/>\n       <path id=\"DejaVuSans-61\" d=\"M 2194 1759 \nQ 1497 1759 1228 1600 \nQ 959 1441 959 1056 \nQ 959 750 1161 570 \nQ 1363 391 1709 391 \nQ 2188 391 2477 730 \nQ 2766 1069 2766 1631 \nL 2766 1759 \nL 2194 1759 \nz\nM 3341 1997 \nL 3341 0 \nL 2766 0 \nL 2766 531 \nQ 2569 213 2275 61 \nQ 1981 -91 1556 -91 \nQ 1019 -91 701 211 \nQ 384 513 384 1019 \nQ 384 1609 779 1909 \nQ 1175 2209 1959 2209 \nL 2766 2209 \nL 2766 2266 \nQ 2766 2663 2505 2880 \nQ 2244 3097 1772 3097 \nQ 1472 3097 1187 3025 \nQ 903 2953 641 2809 \nL 641 3341 \nQ 956 3463 1253 3523 \nQ 1550 3584 1831 3584 \nQ 2591 3584 2966 3190 \nQ 3341 2797 3341 1997 \nz\n\" transform=\"scale(0.015625)\"/>\n       <path id=\"DejaVuSans-69\" d=\"M 603 3500 \nL 1178 3500 \nL 1178 0 \nL 603 0 \nL 603 3500 \nz\nM 603 4863 \nL 1178 4863 \nL 1178 4134 \nL 603 4134 \nL 603 4863 \nz\n\" transform=\"scale(0.015625)\"/>\n       <path id=\"DejaVuSans-6e\" d=\"M 3513 2113 \nL 3513 0 \nL 2938 0 \nL 2938 2094 \nQ 2938 2591 2744 2837 \nQ 2550 3084 2163 3084 \nQ 1697 3084 1428 2787 \nQ 1159 2491 1159 1978 \nL 1159 0 \nL 581 0 \nL 581 3500 \nL 1159 3500 \nL 1159 2956 \nQ 1366 3272 1645 3428 \nQ 1925 3584 2291 3584 \nQ 2894 3584 3203 3211 \nQ 3513 2838 3513 2113 \nz\n\" transform=\"scale(0.015625)\"/>\n      </defs>\n      <use xlink:href=\"#DejaVuSans-74\"/>\n      <use xlink:href=\"#DejaVuSans-72\" x=\"39.208984\"/>\n      <use xlink:href=\"#DejaVuSans-61\" x=\"80.322266\"/>\n      <use xlink:href=\"#DejaVuSans-69\" x=\"141.601562\"/>\n      <use xlink:href=\"#DejaVuSans-6e\" x=\"169.384766\"/>\n     </g>\n    </g>\n    <g id=\"line2d_29\">\n     <path d=\"M 179.826562 34.976562 \nL 189.826562 34.976562 \nL 199.826562 34.976562 \n\" style=\"fill: none; stroke-dasharray: 5.55,2.4; stroke-dashoffset: 0; stroke: #bf00bf; stroke-width: 1.5\"/>\n    </g>\n    <g id=\"text_11\">\n     <!-- valid -->\n     <g transform=\"translate(207.826562 38.476562)scale(0.1 -0.1)\">\n      <defs>\n       <path id=\"DejaVuSans-76\" d=\"M 191 3500 \nL 800 3500 \nL 1894 563 \nL 2988 3500 \nL 3597 3500 \nL 2284 0 \nL 1503 0 \nL 191 3500 \nz\n\" transform=\"scale(0.015625)\"/>\n       <path id=\"DejaVuSans-6c\" d=\"M 603 4863 \nL 1178 4863 \nL 1178 0 \nL 603 0 \nL 603 4863 \nz\n\" transform=\"scale(0.015625)\"/>\n       <path id=\"DejaVuSans-64\" d=\"M 2906 2969 \nL 2906 4863 \nL 3481 4863 \nL 3481 0 \nL 2906 0 \nL 2906 525 \nQ 2725 213 2448 61 \nQ 2172 -91 1784 -91 \nQ 1150 -91 751 415 \nQ 353 922 353 1747 \nQ 353 2572 751 3078 \nQ 1150 3584 1784 3584 \nQ 2172 3584 2448 3432 \nQ 2725 3281 2906 2969 \nz\nM 947 1747 \nQ 947 1113 1208 752 \nQ 1469 391 1925 391 \nQ 2381 391 2643 752 \nQ 2906 1113 2906 1747 \nQ 2906 2381 2643 2742 \nQ 2381 3103 1925 3103 \nQ 1469 3103 1208 2742 \nQ 947 2381 947 1747 \nz\n\" transform=\"scale(0.015625)\"/>\n      </defs>\n      <use xlink:href=\"#DejaVuSans-76\"/>\n      <use xlink:href=\"#DejaVuSans-61\" x=\"59.179688\"/>\n      <use xlink:href=\"#DejaVuSans-6c\" x=\"120.458984\"/>\n      <use xlink:href=\"#DejaVuSans-69\" x=\"148.242188\"/>\n      <use xlink:href=\"#DejaVuSans-64\" x=\"176.025391\"/>\n     </g>\n    </g>\n   </g>\n  </g>\n </g>\n <defs>\n  <clipPath id=\"p0545b47cc1\">\n   <rect x=\"45.478125\" y=\"7.2\" width=\"195.3\" height=\"138.6\"/>\n  </clipPath>\n </defs>\n</svg>\n",
      "text/plain": [
       "<Figure size 350x250 with 1 Axes>"
      ]
     },
     "metadata": {},
     "output_type": "display_data"
    }
   ],
   "source": [
    "net = My_Model(input_dim=x_train.shape[1]).to(device)\n",
    "train_ls, valid_ls = train(net)\n",
    "d2l.plot(list(range(1, config['n_epochs'] + 1)), [train_ls, valid_ls], xlabel='epoch', ylabel='mse', xlim=[1, config['n_epochs']], legend=['train', 'valid'], yscale='log')"
   ]
  },
  {
   "cell_type": "markdown",
   "metadata": {},
   "source": [
    "# Predict"
   ]
  },
  {
   "cell_type": "code",
   "execution_count": 203,
   "metadata": {},
   "outputs": [],
   "source": [
    "def predict(model):\n",
    "    model.eval() # Set your model to evaluation mode.\n",
    "    preds = []\n",
    "    for x in test_loader:\n",
    "        x = x.to(device)                        \n",
    "        with torch.no_grad():                   \n",
    "            pred = model(x)                     \n",
    "            preds.append(pred.detach().cpu())   \n",
    "    preds = torch.cat(preds, dim=0).numpy()  \n",
    "    return preds\n",
    "    \n",
    "def save_pred(preds, file):\n",
    "    ''' Save predictions to specified file '''\n",
    "    with open(file, 'w') as fp:\n",
    "        writer = csv.writer(fp)\n",
    "        writer.writerow(['id', 'tested_positive'])\n",
    "        for i, p in enumerate(preds):\n",
    "            writer.writerow([i, p])\n",
    "\n",
    "model = My_Model(input_dim=x_train.shape[1]).to(device)\n",
    "model.load_state_dict(torch.load(config['save_path']))\n",
    "preds = predict(model) \n",
    "save_pred(preds, 'pred.csv')"
   ]
  }
 ],
 "metadata": {
  "kernelspec": {
   "display_name": "Python 3.8.13 ('d2l')",
   "language": "python",
   "name": "python3"
  },
  "language_info": {
   "codemirror_mode": {
    "name": "ipython",
    "version": 3
   },
   "file_extension": ".py",
   "mimetype": "text/x-python",
   "name": "python",
   "nbconvert_exporter": "python",
   "pygments_lexer": "ipython3",
   "version": "3.8.13"
  },
  "vscode": {
   "interpreter": {
    "hash": "e74e791fac79cd95acd8863fe3f7e8927d9df23efc816f2087cf9e199b41ecb8"
   }
  }
 },
 "nbformat": 4,
 "nbformat_minor": 4
}
